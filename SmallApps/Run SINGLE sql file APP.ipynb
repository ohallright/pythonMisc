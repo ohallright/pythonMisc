{
 "cells": [
  {
   "cell_type": "code",
   "execution_count": 1,
   "id": "e91136b2-d32f-4391-ae08-d888e08a116a",
   "metadata": {},
   "outputs": [
    {
     "data": {
      "text/plain": [
       "'\\n0. Connect to database\\n1. Navigate to SQL file + GUI\\n2. Read sql file\\n3. Query Data & write\\n    3.1 add datestamp\\n    3.2 finish file\\n'"
      ]
     },
     "execution_count": 1,
     "metadata": {},
     "output_type": "execute_result"
    }
   ],
   "source": [
    "\"\"\"\n",
    "0. Connect to database\n",
    "1. Navigate to SQL file + GUI\n",
    "2. Read sql file\n",
    "3. Query Data & write\n",
    "    3.1 add datestamp\n",
    "    3.2 finish file\n",
    "\"\"\""
   ]
  },
  {
   "cell_type": "code",
   "execution_count": 2,
   "id": "8335aab9-7d9a-48a2-a985-dbc737748624",
   "metadata": {},
   "outputs": [],
   "source": [
    "'''0. Connect to database'''\n",
    "\n",
    "import pyodbc \n",
    "import pandas as pd\n",
    "from datetime import datetime\n",
    "\n",
    "# odbc connection info\n",
    "driver = 'ODBC Driver 17 for SQL Server'\n",
    "server = 'SQL-DSHE-PI-REPT'\n",
    "db = 'USER_SUPPLY_CHAIN'\n",
    "\n",
    "# establish connection\n",
    "cnxn = pyodbc.connect('DRIVER='+driver+';SERVER='+server+';DATABASE='+db+';Trusted_Connection=yes')"
   ]
  },
  {
   "cell_type": "code",
   "execution_count": 3,
   "id": "d5dfd83d-29bb-4a69-9221-3b136db0ba22",
   "metadata": {},
   "outputs": [],
   "source": [
    "'''1. Navigate to SQL file + GUI'''\n",
    "\n",
    "import PySimpleGUI as sg\n",
    "sg.theme(\"DarkTeal2\")\n",
    "layout = [[sg.T(\"\")], [sg.Text(\"Choose a file: \"), sg.Input(), sg.FileBrowse(key=\"-IN-\",file_types=((\"SQL Files\", \"*.sql\"),) )],[sg.Button(\"Submit\")]]\n",
    "\n",
    "###Building Window\n",
    "window = sg.Window('My File Browser', layout, size=(600,150))\n",
    "    \n",
    "# get sql file\n",
    "filePath = ''\n",
    "while True:\n",
    "    event, values = window.read()\n",
    "    if event == sg.WIN_CLOSED or event==\"Exit\":\n",
    "        break\n",
    "    elif event == \"Submit\":\n",
    "        filePath = values[\"-IN-\"]\n",
    "        window.close()"
   ]
  },
  {
   "cell_type": "code",
   "execution_count": 8,
   "id": "ff2f7c3a-1bd3-4761-abd8-514e4c0ef13d",
   "metadata": {},
   "outputs": [],
   "source": [
    "'''2. Read sql file'''\n",
    "\n",
    "with open(filePath) as f:\n",
    "    sql_as_string = f.read()\n",
    "\n",
    "# remove potential encoding\n",
    "val = sql_as_string.rfind('¿')\n",
    "val = val+1\n",
    "query=sql_as_string[val:]"
   ]
  },
  {
   "cell_type": "code",
   "execution_count": 10,
   "id": "fee54bb4-b9ba-4f9c-8233-1c8192c2507f",
   "metadata": {
    "collapsed": true,
    "jupyter": {
     "outputs_hidden": true
    },
    "tags": []
   },
   "outputs": [
    {
     "ename": "TypeError",
     "evalue": "'NoneType' object is not iterable",
     "output_type": "error",
     "traceback": [
      "\u001b[1;31m---------------------------------------------------------------------------\u001b[0m",
      "\u001b[1;31mTypeError\u001b[0m                                 Traceback (most recent call last)",
      "\u001b[1;32m<ipython-input-10-7bafdc9aee30>\u001b[0m in \u001b[0;36m<module>\u001b[1;34m\u001b[0m\n\u001b[0;32m      2\u001b[0m \u001b[1;33m\u001b[0m\u001b[0m\n\u001b[0;32m      3\u001b[0m \u001b[1;31m# query data\u001b[0m\u001b[1;33m\u001b[0m\u001b[1;33m\u001b[0m\u001b[1;33m\u001b[0m\u001b[0m\n\u001b[1;32m----> 4\u001b[1;33m \u001b[0mdf\u001b[0m \u001b[1;33m=\u001b[0m \u001b[0mpd\u001b[0m\u001b[1;33m.\u001b[0m\u001b[0mread_sql_query\u001b[0m\u001b[1;33m(\u001b[0m\u001b[0mquery\u001b[0m\u001b[1;33m,\u001b[0m\u001b[0mcnxn\u001b[0m\u001b[1;33m)\u001b[0m\u001b[1;33m\u001b[0m\u001b[1;33m\u001b[0m\u001b[0m\n\u001b[0m\u001b[0;32m      5\u001b[0m \u001b[1;33m\u001b[0m\u001b[0m\n\u001b[0;32m      6\u001b[0m \u001b[1;31m# save data with run date stamp\u001b[0m\u001b[1;33m\u001b[0m\u001b[1;33m\u001b[0m\u001b[1;33m\u001b[0m\u001b[0m\n",
      "\u001b[1;32mc:\\users\\ryanli\\appdata\\local\\programs\\python\\python39\\lib\\site-packages\\pandas\\io\\sql.py\u001b[0m in \u001b[0;36mread_sql_query\u001b[1;34m(sql, con, index_col, coerce_float, params, parse_dates, chunksize)\u001b[0m\n\u001b[0;32m    386\u001b[0m     \"\"\"\n\u001b[0;32m    387\u001b[0m     \u001b[0mpandas_sql\u001b[0m \u001b[1;33m=\u001b[0m \u001b[0mpandasSQL_builder\u001b[0m\u001b[1;33m(\u001b[0m\u001b[0mcon\u001b[0m\u001b[1;33m)\u001b[0m\u001b[1;33m\u001b[0m\u001b[1;33m\u001b[0m\u001b[0m\n\u001b[1;32m--> 388\u001b[1;33m     return pandas_sql.read_query(\n\u001b[0m\u001b[0;32m    389\u001b[0m         \u001b[0msql\u001b[0m\u001b[1;33m,\u001b[0m\u001b[1;33m\u001b[0m\u001b[1;33m\u001b[0m\u001b[0m\n\u001b[0;32m    390\u001b[0m         \u001b[0mindex_col\u001b[0m\u001b[1;33m=\u001b[0m\u001b[0mindex_col\u001b[0m\u001b[1;33m,\u001b[0m\u001b[1;33m\u001b[0m\u001b[1;33m\u001b[0m\u001b[0m\n",
      "\u001b[1;32mc:\\users\\ryanli\\appdata\\local\\programs\\python\\python39\\lib\\site-packages\\pandas\\io\\sql.py\u001b[0m in \u001b[0;36mread_query\u001b[1;34m(self, sql, index_col, coerce_float, params, parse_dates, chunksize)\u001b[0m\n\u001b[0;32m   1770\u001b[0m         \u001b[0margs\u001b[0m \u001b[1;33m=\u001b[0m \u001b[0m_convert_params\u001b[0m\u001b[1;33m(\u001b[0m\u001b[0msql\u001b[0m\u001b[1;33m,\u001b[0m \u001b[0mparams\u001b[0m\u001b[1;33m)\u001b[0m\u001b[1;33m\u001b[0m\u001b[1;33m\u001b[0m\u001b[0m\n\u001b[0;32m   1771\u001b[0m         \u001b[0mcursor\u001b[0m \u001b[1;33m=\u001b[0m \u001b[0mself\u001b[0m\u001b[1;33m.\u001b[0m\u001b[0mexecute\u001b[0m\u001b[1;33m(\u001b[0m\u001b[1;33m*\u001b[0m\u001b[0margs\u001b[0m\u001b[1;33m)\u001b[0m\u001b[1;33m\u001b[0m\u001b[1;33m\u001b[0m\u001b[0m\n\u001b[1;32m-> 1772\u001b[1;33m         \u001b[0mcolumns\u001b[0m \u001b[1;33m=\u001b[0m \u001b[1;33m[\u001b[0m\u001b[0mcol_desc\u001b[0m\u001b[1;33m[\u001b[0m\u001b[1;36m0\u001b[0m\u001b[1;33m]\u001b[0m \u001b[1;32mfor\u001b[0m \u001b[0mcol_desc\u001b[0m \u001b[1;32min\u001b[0m \u001b[0mcursor\u001b[0m\u001b[1;33m.\u001b[0m\u001b[0mdescription\u001b[0m\u001b[1;33m]\u001b[0m\u001b[1;33m\u001b[0m\u001b[1;33m\u001b[0m\u001b[0m\n\u001b[0m\u001b[0;32m   1773\u001b[0m \u001b[1;33m\u001b[0m\u001b[0m\n\u001b[0;32m   1774\u001b[0m         \u001b[1;32mif\u001b[0m \u001b[0mchunksize\u001b[0m \u001b[1;32mis\u001b[0m \u001b[1;32mnot\u001b[0m \u001b[1;32mNone\u001b[0m\u001b[1;33m:\u001b[0m\u001b[1;33m\u001b[0m\u001b[1;33m\u001b[0m\u001b[0m\n",
      "\u001b[1;31mTypeError\u001b[0m: 'NoneType' object is not iterable"
     ]
    }
   ],
   "source": [
    "'''3. Query Data & write'''\n",
    "\n",
    "# query data\n",
    "df = pd.read_sql_query(query,cnxn)\n",
    "\n",
    "# save data with run date stamp\n",
    "now = datetime.now()\n",
    "currentTime = now.strftime(\"%m-%d-%y\")\n",
    "currentTime = currentTime+' at '+now.strftime(\"%H%M\")\n",
    "print(currentTime)\n",
    "\n",
    "# set path to where sql file was\n",
    "writeLoc = filePath[:len(filePath)-4] +'_'+ format(currentTime) +'.xlsx'\n",
    "# set path to downloads\n",
    "###writeLoc = filePath[:len(filePath)-4] +'_'+ format(currentTime) +'.xlsx'\n",
    "print(writeLoc)\n",
    "\n",
    "# save file to history\n",
    "df.to_excel(writeLoc)\n",
    "\n",
    "'''3.1 add datestamp'''\n",
    "# add tab to new excel file with date\n",
    "from openpyxl import load_workbook\n",
    "wb2 = load_workbook(writeLoc)\n",
    "wb2.create_sheet('dateStamp')\n",
    "\n",
    "# add date to excel fiel\n",
    "wb2['dateStamp'].cell(row = 1, column = 1).value = 'Date'\n",
    "wb2['dateStamp'].cell(row = 2, column = 1).value = now\n",
    "\n",
    "# save file\n",
    "wb2.save(writeLoc)\n",
    "wb2.close()\n",
    "\n",
    "'''3.2 finish'''\n",
    "# print runtime duration\n",
    "runTime = (datetime.now()-now).seconds\n",
    "print(runTime, 'seconds (about' , int(runTime/60), 'minutes)')\n",
    "\n",
    "# COMPLETE\n",
    "cnxn.close()\n",
    "print('COMPLETED- Saved')\n",
    "input('Press Enter or Close this window')"
   ]
  },
  {
   "cell_type": "code",
   "execution_count": null,
   "id": "e877b5d1-fac5-496a-ac1c-92d994aa480f",
   "metadata": {},
   "outputs": [],
   "source": []
  }
 ],
 "metadata": {
  "kernelspec": {
   "display_name": "Python 3",
   "language": "python",
   "name": "python3"
  },
  "language_info": {
   "codemirror_mode": {
    "name": "ipython",
    "version": 3
   },
   "file_extension": ".py",
   "mimetype": "text/x-python",
   "name": "python",
   "nbconvert_exporter": "python",
   "pygments_lexer": "ipython3",
   "version": "3.9.5"
  }
 },
 "nbformat": 4,
 "nbformat_minor": 5
}
