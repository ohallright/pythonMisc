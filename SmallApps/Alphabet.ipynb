{
 "cells": [
  {
   "cell_type": "code",
   "execution_count": 19,
   "metadata": {},
   "outputs": [],
   "source": [
    "import time\n",
    "import pyautogui \n",
    "import webbrowser\n",
    "\n",
    "url = 'https://www.speedtypingonline.com/games/type-the-alphabet.php'\n",
    "alphabet = 'abcdefghijklmnopqrstuvwxy'\n",
    "alphabet2 = 'z'\n",
    "\n",
    "pyautogui.hotkey('Ctrl','t')\n",
    "pyautogui.typewrite(url)\n",
    "time.sleep(1)\n",
    "pyautogui.press('enter')\n",
    "time.sleep(1)\n",
    "\n",
    "pyautogui.write(alphabet)\n",
    "pyautogui.write(alphabet2)\n",
    "\n",
    "\n",
    "#for i in alphabet:\n",
    "#    pyautogui.press(i)"
   ]
  },
  {
   "cell_type": "code",
   "execution_count": 7,
   "metadata": {},
   "outputs": [
    {
     "ename": "ModuleNotFoundError",
     "evalue": "No module named 'AzureBlobFileUploader'",
     "output_type": "error",
     "traceback": [
      "\u001b[1;31m---------------------------------------------------------------------------\u001b[0m",
      "\u001b[1;31mModuleNotFoundError\u001b[0m                       Traceback (most recent call last)",
      "\u001b[1;32m<ipython-input-7-c59e4ab54195>\u001b[0m in \u001b[0;36m<module>\u001b[1;34m\u001b[0m\n\u001b[1;32m----> 1\u001b[1;33m \u001b[1;32mfrom\u001b[0m \u001b[0mAzureBlobFileUploader\u001b[0m \u001b[1;32mimport\u001b[0m \u001b[0mAzureBlobFileUploader\u001b[0m\u001b[1;33m\u001b[0m\u001b[1;33m\u001b[0m\u001b[0m\n\u001b[0m",
      "\u001b[1;31mModuleNotFoundError\u001b[0m: No module named 'AzureBlobFileUploader'"
     ]
    }
   ],
   "source": [
    "from AzureBlobFileUploader import AzureBlobFileUploader\n"
   ]
  },
  {
   "cell_type": "code",
   "execution_count": 5,
   "metadata": {},
   "outputs": [],
   "source": [
    "import sys\n",
    "sys.path.append('../')"
   ]
  }
 ],
 "metadata": {
  "kernelspec": {
   "display_name": "Python 3",
   "language": "python",
   "name": "python3"
  },
  "language_info": {
   "codemirror_mode": {
    "name": "ipython",
    "version": 3
   },
   "file_extension": ".py",
   "mimetype": "text/x-python",
   "name": "python",
   "nbconvert_exporter": "python",
   "pygments_lexer": "ipython3",
   "version": "3.8.3"
  }
 },
 "nbformat": 4,
 "nbformat_minor": 4
}
