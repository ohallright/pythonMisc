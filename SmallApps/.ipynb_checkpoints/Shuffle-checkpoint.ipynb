{
 "cells": [
  {
   "cell_type": "code",
   "execution_count": 2,
   "id": "bacterial-profile",
   "metadata": {},
   "outputs": [
    {
     "name": "stdout",
     "output_type": "stream",
     "text": [
      "COMPLETE\n"
     ]
    }
   ],
   "source": [
    "import os\n",
    "import random\n",
    "\n",
    "dir_name=r\"C:\\Users\\lizva\\Lighthouse\\music\\d2\"\n",
    "files_num = 490\n",
    "lists = []\n",
    "\n",
    "for filename in (os.listdir(dir_name)):\n",
    "\n",
    "    # get random sort order\n",
    "    num=random.randrange(0,files_num)\n",
    "    while (num in lists):\n",
    "        num=random.randrange(0,files_num)\n",
    "    else:\n",
    "        lists.append(num)    \n",
    "    \n",
    "    # trim old shuffle order\n",
    "    #filename=filename[2: len(filename)]\n",
    "    \n",
    "    # rename\n",
    "    src =dir_name+'/'+filename\n",
    "    dst =dir_name+'/'+str(num)+'_'+filename\n",
    "\n",
    "    os.rename(src, dst)\n",
    "\n",
    "print(\"COMPLETE\")"
   ]
  },
  {
   "cell_type": "code",
   "execution_count": null,
   "id": "crude-appeal",
   "metadata": {},
   "outputs": [],
   "source": []
  }
 ],
 "metadata": {
  "kernelspec": {
   "display_name": "Python 3",
   "language": "python",
   "name": "python3"
  },
  "language_info": {
   "codemirror_mode": {
    "name": "ipython",
    "version": 3
   },
   "file_extension": ".py",
   "mimetype": "text/x-python",
   "name": "python",
   "nbconvert_exporter": "python",
   "pygments_lexer": "ipython3",
   "version": "3.9.1"
  }
 },
 "nbformat": 4,
 "nbformat_minor": 5
}
