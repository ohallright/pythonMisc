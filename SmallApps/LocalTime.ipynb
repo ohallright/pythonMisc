{
 "cells": [
  {
   "cell_type": "code",
   "execution_count": 1,
   "metadata": {},
   "outputs": [],
   "source": [
    "import time\n",
    "from datetime import datetime\n",
    "import pytz\n",
    "import pyautogui \n",
    "import webbrowser"
   ]
  },
  {
   "cell_type": "code",
   "execution_count": 2,
   "metadata": {},
   "outputs": [],
   "source": [
    "def FindTimeZone( hr ):\n",
    "    #loop through timezones to find 5pm\n",
    "    for i in pytz.all_timezones_set:\n",
    "        IST = pytz.timezone(i) \n",
    "        datetime_ist = datetime.now(IST)\n",
    "\n",
    "        if datetime_ist.hour == hr: #hour somewhere\n",
    "            searchLoc = i     \n",
    "    return(searchLoc)"
   ]
  },
  {
   "cell_type": "code",
   "execution_count": 3,
   "metadata": {},
   "outputs": [],
   "source": [
    "def ExeUrl( url ):\n",
    "    pyautogui.hotkey(\"Ctrl\",\"t\")\n",
    "    pyautogui.typewrite(url)\n",
    "    time.sleep(.5)\n",
    "    pyautogui.press(\"enter\")\n",
    "    time.sleep(1)"
   ]
  },
  {
   "cell_type": "code",
   "execution_count": 7,
   "metadata": {},
   "outputs": [],
   "source": [
    "option1 = \"Yes!\"\n",
    "option2 = \"Cat girls\"\n",
    "\n",
    "val = pyautogui.confirm(text=\"It's 5 o'clock somewhere!\", title=\"Find 5pm\", buttons=[option1, option2])\n",
    "\n",
    "if val == option1:\n",
    "    searchLoc = FindTimeZone(17)\n",
    "    url = searchLoc + \" time now\"\n",
    "    ExeUrl(url)\n",
    "if val == option2:\n",
    "    url = \"https://tinyurl.com/ydaq5s33\"\n",
    "    ExeUrl(url)"
   ]
  },
  {
   "cell_type": "code",
   "execution_count": null,
   "metadata": {},
   "outputs": [],
   "source": []
  }
 ],
 "metadata": {
  "kernelspec": {
   "display_name": "Python 3",
   "language": "python",
   "name": "python3"
  },
  "language_info": {
   "codemirror_mode": {
    "name": "ipython",
    "version": 3
   },
   "file_extension": ".py",
   "mimetype": "text/x-python",
   "name": "python",
   "nbconvert_exporter": "python",
   "pygments_lexer": "ipython3",
   "version": "3.8.3"
  }
 },
 "nbformat": 4,
 "nbformat_minor": 4
}
