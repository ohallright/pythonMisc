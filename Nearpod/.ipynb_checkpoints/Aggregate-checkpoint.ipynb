{
 "cells": [
  {
   "cell_type": "code",
   "execution_count": 195,
   "metadata": {},
   "outputs": [
    {
     "name": "stdin",
     "output_type": "stream",
     "text": [
      "User in C: directory: lizva\n",
      "File Name (in downloads): test\n"
     ]
    }
   ],
   "source": [
    "#todo, get all file names in dir\n",
    "\n",
    "import glob\n",
    "import pandas as pd\n",
    "\n",
    "userDir = '\\\\'+input('User in C: directory:')\n",
    "userDir = r'\\lizva'\n",
    "directory = r'C:\\Users'+userDir+'\\Downloads'\n",
    "\n",
    "userFile = '\\\\'+input('File Name (in downloads):')\n",
    "writeLoc = r'C:\\Users'+userDir+'\\Downloads'+userFile+'.xlsx'"
   ]
  },
  {
   "cell_type": "code",
   "execution_count": 193,
   "metadata": {},
   "outputs": [
    {
     "name": "stdout",
     "output_type": "stream",
     "text": [
      "C:\\Users\\lizva\\Downloads\\Session from 2021-02-19 10_11 AM.zip\n",
      "C:\\Users\\lizva\\Downloads\\Session from 2021-02-19 11_26 AM.zip\n",
      "C:\\Users\\lizva\\Downloads\\Session from 2021-02-22 07_58 AM.zip\n",
      "C:\\Users\\lizva\\Downloads\\Session from 2021-02-22 10_12 AM.zip\n",
      "C:\\Users\\lizva\\Downloads\\Session from 2021-02-22 11_25 AM.zip\n"
     ]
    }
   ],
   "source": [
    "# create base df\n",
    "aggregateData = pd.DataFrame(columns=['Name','Date','OEQ'])\n",
    "\n",
    "for i in glob.glob(directory+'/session*'):\n",
    "    print(i)\n",
    "    \n",
    "    file = i\n",
    "    # read zipped csv\n",
    "    df = pd.read_csv(file, encoding='latin1')\n",
    "\n",
    "    # get all columns\n",
    "    col = df.columns\n",
    "\n",
    "    oeq_col = []\n",
    "\n",
    "    for i in col:\n",
    "        if 'OEQ:' in i:\n",
    "            if not oeq_col: # get first OEQ column\n",
    "                oeq_col = i\n",
    "            else:\n",
    "                break\n",
    "\n",
    "    # convert import into \n",
    "    base = df[ ['Name','Date',oeq_col] ]\n",
    "    baseNames = base.rename(columns={oeq_col: \"OEQ\"})\n",
    "    baseNames.drop_duplicates()\n",
    "\n",
    "    # if there's a value then 1, else 0\n",
    "    baseNames['OEQParticipation'] = 0 # student entered nothing\n",
    "    baseNames.loc[baseNames['OEQ'].notnull(), 'OEQParticipation'] = '1' # student entered something\n",
    "    baseNames.loc[baseNames['OEQ'] == '-', 'OEQParticipation'] = '0' # student \"entered\" nothing, default is '-'\n",
    "    classRecords = baseNames.drop(columns=['OEQ'])\n",
    "\n",
    "    \n",
    "    # append class records with aggregate df\n",
    "    aggregateData = aggregateData.append(classRecords, ignore_index=True)    "
   ]
  },
  {
   "cell_type": "code",
   "execution_count": 200,
   "metadata": {},
   "outputs": [],
   "source": [
    "aggregateData.to_excel(writeLoc)"
   ]
  },
  {
   "cell_type": "code",
   "execution_count": 196,
   "metadata": {},
   "outputs": [
    {
     "data": {
      "text/plain": [
       "'C:\\\\Users\\\\lizva\\\\Downloads\\\\test.xlsx'"
      ]
     },
     "execution_count": 196,
     "metadata": {},
     "output_type": "execute_result"
    }
   ],
   "source": [
    "writeLoc"
   ]
  }
 ],
 "metadata": {
  "kernelspec": {
   "display_name": "Python 3",
   "language": "python",
   "name": "python3"
  },
  "language_info": {
   "codemirror_mode": {
    "name": "ipython",
    "version": 3
   },
   "file_extension": ".py",
   "mimetype": "text/x-python",
   "name": "python",
   "nbconvert_exporter": "python",
   "pygments_lexer": "ipython3",
   "version": "3.9.1"
  }
 },
 "nbformat": 4,
 "nbformat_minor": 4
}
