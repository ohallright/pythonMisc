{
 "cells": [
  {
   "cell_type": "code",
   "execution_count": 8,
   "metadata": {},
   "outputs": [
    {
     "name": "stdin",
     "output_type": "stream",
     "text": [
      "Number of Exports: 1\n"
     ]
    }
   ],
   "source": [
    "from Modules import fnImage\n",
    "import pyautogui\n",
    "\n",
    "# images to scan the page for\n",
    "## todo, improve by converting to xpaths\n",
    "picDownload = r'Images/Download.png'\n",
    "picDownload_SessionCSV = r'Images/Download_SessionCSV.png'\n",
    "picDownload_LocalDrive = r'Images/Download_LocalDrive.png'\n",
    "picDownload_Okay = r'Images/Download_Okay.png'\n",
    "picDownload_Save = r'Images/Download_Save.png'\n",
    "\n",
    "# user manually navigates to their reports page in nearpod\n",
    "# user manually selects class sessions they want to download\n",
    "\n",
    "loop = int(input('Number of Exports:'))\n",
    "\n",
    "# auto download\n",
    "for i in range(0,loop,1):\n",
    "    fnImage.FindClick(picDownload,20)\n",
    "    fnImage.FindClick(picDownload_SessionCSV)\n",
    "    fnImage.FindClick(picDownload_LocalDrive)\n",
    "    \n",
    "# todo, below is needed for edge functionality\n",
    "#    fnImage.FindClick(picDownload_Okay)\n",
    "#    fnImage.FindClick(picDownload_Save)\n",
    "    pyautogui.press('esc')"
   ]
  },
  {
   "cell_type": "code",
   "execution_count": null,
   "metadata": {},
   "outputs": [],
   "source": []
  }
 ],
 "metadata": {
  "kernelspec": {
   "display_name": "Python 3",
   "language": "python",
   "name": "python3"
  },
  "language_info": {
   "codemirror_mode": {
    "name": "ipython",
    "version": 3
   },
   "file_extension": ".py",
   "mimetype": "text/x-python",
   "name": "python",
   "nbconvert_exporter": "python",
   "pygments_lexer": "ipython3",
   "version": "3.9.1"
  }
 },
 "nbformat": 4,
 "nbformat_minor": 4
}
