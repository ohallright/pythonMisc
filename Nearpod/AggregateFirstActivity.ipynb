{
 "cells": [
  {
   "cell_type": "code",
   "execution_count": 63,
   "metadata": {
    "collapsed": true,
    "jupyter": {
     "outputs_hidden": true
    }
   },
   "outputs": [
    {
     "name": "stdin",
     "output_type": "stream",
     "text": [
      "User in C: directory: lizva\n",
      "File Name (in downloads): data\n"
     ]
    },
    {
     "name": "stdout",
     "output_type": "stream",
     "text": [
      "    Begin Processing\n",
      "C:\\Users\\lizva\\Downloads\\Session from 2021-01-07 08_03 AM (1).zip\n",
      "C:\\Users\\lizva\\Downloads\\Session from 2021-01-07 08_03 AM.zip\n",
      "C:\\Users\\lizva\\Downloads\\Session from 2021-01-07 10_20 AM.zip\n",
      "C:\\Users\\lizva\\Downloads\\Session from 2021-01-07 11_23 AM (1).zip\n",
      "C:\\Users\\lizva\\Downloads\\Session from 2021-01-07 11_23 AM.zip\n",
      "C:\\Users\\lizva\\Downloads\\Session from 2021-01-08 10_26 AM.zip\n",
      "C:\\Users\\lizva\\Downloads\\Session from 2021-01-08 11_27 AM.zip\n",
      "C:\\Users\\lizva\\Downloads\\Session from 2021-01-11 10_23 AM.zip\n",
      "C:\\Users\\lizva\\Downloads\\Session from 2021-01-11 11_34 AM.zip\n",
      "C:\\Users\\lizva\\Downloads\\Session from 2021-01-12 09_48 AM.zip\n",
      "C:\\Users\\lizva\\Downloads\\Session from 2021-01-12 11_26 AM.zip\n",
      "C:\\Users\\lizva\\Downloads\\Session from 2021-01-14 07_38 AM.zip\n",
      "C:\\Users\\lizva\\Downloads\\Session from 2021-01-14 09_24 AM.zip\n",
      "C:\\Users\\lizva\\Downloads\\Session from 2021-01-14 11_35 AM.zip\n",
      "C:\\Users\\lizva\\Downloads\\Session from 2021-01-15 10_22 AM.zip\n",
      "C:\\Users\\lizva\\Downloads\\Session from 2021-01-15 11_31 AM.zip\n",
      "C:\\Users\\lizva\\Downloads\\Session from 2021-01-19 10_05 AM.zip\n",
      "C:\\Users\\lizva\\Downloads\\Session from 2021-01-21 07_35 AM.zip\n",
      "C:\\Users\\lizva\\Downloads\\Session from 2021-01-21 10_09 AM.zip\n",
      "C:\\Users\\lizva\\Downloads\\Session from 2021-01-21 11_29 AM.zip\n",
      "C:\\Users\\lizva\\Downloads\\Session from 2021-01-22 10_13 AM.zip\n",
      "C:\\Users\\lizva\\Downloads\\Session from 2021-01-22 11_28 AM.zip\n",
      "C:\\Users\\lizva\\Downloads\\Session from 2021-01-26 09_49 AM.zip\n",
      "C:\\Users\\lizva\\Downloads\\Session from 2021-01-26 11_27 AM.zip\n",
      "C:\\Users\\lizva\\Downloads\\Session from 2021-01-28 08_01 AM.zip\n",
      "C:\\Users\\lizva\\Downloads\\Session from 2021-01-28 10_14 AM.zip\n",
      "C:\\Users\\lizva\\Downloads\\Session from 2021-01-28 12_06 PM.zip\n",
      "C:\\Users\\lizva\\Downloads\\Session from 2021-01-29 10_22 AM.zip\n",
      "C:\\Users\\lizva\\Downloads\\Session from 2021-01-29 11_28 AM.zip\n",
      "C:\\Users\\lizva\\Downloads\\Session from 2021-02-01 08_00 AM.zip\n",
      "C:\\Users\\lizva\\Downloads\\Session from 2021-02-01 10_09 AM.zip\n",
      "C:\\Users\\lizva\\Downloads\\Session from 2021-02-01 10_13 AM.zip\n",
      "C:\\Users\\lizva\\Downloads\\Session from 2021-02-01 11_27 AM.zip\n",
      "C:\\Users\\lizva\\Downloads\\Session from 2021-02-02 10_19 AM.zip\n",
      "C:\\Users\\lizva\\Downloads\\Session from 2021-02-02 11_27 AM.zip\n",
      "C:\\Users\\lizva\\Downloads\\Session from 2021-02-04 07_59 AM.zip\n",
      "C:\\Users\\lizva\\Downloads\\Session from 2021-02-04 10_20 AM.zip\n",
      "C:\\Users\\lizva\\Downloads\\Session from 2021-02-04 11_26 AM.zip\n",
      "C:\\Users\\lizva\\Downloads\\Session from 2021-02-05 10_07 AM.zip\n",
      "C:\\Users\\lizva\\Downloads\\Session from 2021-02-05 11_29 AM.zip\n",
      "C:\\Users\\lizva\\Downloads\\Session from 2021-02-08 08_00 AM.zip\n",
      "C:\\Users\\lizva\\Downloads\\Session from 2021-02-08 10_11 AM.zip\n",
      "C:\\Users\\lizva\\Downloads\\Session from 2021-02-08 11_26 AM.zip\n",
      "C:\\Users\\lizva\\Downloads\\Session from 2021-02-09 10_21 AM.zip\n",
      "C:\\Users\\lizva\\Downloads\\Session from 2021-02-09 11_29 AM.zip\n",
      "C:\\Users\\lizva\\Downloads\\Session from 2021-02-11 08_00 AM.zip\n",
      "C:\\Users\\lizva\\Downloads\\Session from 2021-02-11 10_19 AM.zip\n",
      "C:\\Users\\lizva\\Downloads\\Session from 2021-02-11 11_33 AM.zip\n",
      "C:\\Users\\lizva\\Downloads\\Session from 2021-02-12 10_13 AM.zip\n",
      "C:\\Users\\lizva\\Downloads\\Session from 2021-02-12 11_26 AM (1).zip\n",
      "C:\\Users\\lizva\\Downloads\\Session from 2021-02-12 11_26 AM.zip\n",
      "C:\\Users\\lizva\\Downloads\\Session from 2021-02-18 07_58 AM (1).zip\n",
      "C:\\Users\\lizva\\Downloads\\Session from 2021-02-18 07_58 AM.zip\n",
      "C:\\Users\\lizva\\Downloads\\Session from 2021-02-18 10_05 AM.zip\n",
      "C:\\Users\\lizva\\Downloads\\Session from 2021-02-18 11_25 AM.zip\n",
      "C:\\Users\\lizva\\Downloads\\Session from 2021-02-19 10_11 AM.zip\n",
      "C:\\Users\\lizva\\Downloads\\Session from 2021-02-19 11_26 AM.zip\n",
      "C:\\Users\\lizva\\Downloads\\Session from 2021-02-22 07_58 AM.zip\n",
      "C:\\Users\\lizva\\Downloads\\Session from 2021-02-22 10_12 AM.zip\n",
      "C:\\Users\\lizva\\Downloads\\Session from 2021-02-22 11_25 AM.zip\n",
      "C:\\Users\\lizva\\Downloads\\Session from 2021-02-23 10_14 AM.zip\n",
      "C:\\Users\\lizva\\Downloads\\Session from 2021-02-23 11_26 AM.zip\n",
      "C:\\Users\\lizva\\Downloads\\Session from 2021-02-25 07_56 AM.zip\n",
      "C:\\Users\\lizva\\Downloads\\Session from 2021-02-25 09_54 AM.zip\n",
      "C:\\Users\\lizva\\Downloads\\Session from 2021-02-25 11_28 AM.zip\n",
      "C:\\Users\\lizva\\Downloads\\Session from 2021-02-26 10_17 AM.zip\n",
      "C:\\Users\\lizva\\Downloads\\Session from 2021-02-26 11_28 AM.zip\n",
      "C:\\Users\\lizva\\Downloads\\Session from 2021-1-11 801 am.zip\n",
      "\n",
      "Complete, written to  C:\\Users\\lizva\\Downloads\\data.xlsx\n"
     ]
    },
    {
     "name": "stdin",
     "output_type": "stream",
     "text": [
      " \n"
     ]
    },
    {
     "data": {
      "text/plain": [
       "''"
      ]
     },
     "execution_count": 63,
     "metadata": {},
     "output_type": "execute_result"
    }
   ],
   "source": [
    "import glob\n",
    "import pandas as pd\n",
    "\n",
    "# get user dir\n",
    "userDir = '\\\\'+input('User in C: directory:')\n",
    "directory = r'C:\\Users'+userDir+'\\Downloads'\n",
    "\n",
    "# get user write file name\n",
    "userFile = '\\\\'+input('File Name (in downloads):')\n",
    "writeLoc = r'C:\\Users'+userDir+'\\Downloads'+userFile+'.xlsx'\n",
    "\n",
    "## begin\n",
    "print('    Begin Processing')\n",
    "\n",
    "# create base df\n",
    "aggregateData = pd.DataFrame(columns=['Name','Date','OEQ'])\n",
    "\n",
    "for i in glob.glob(directory+'/session*'):\n",
    "    print(i)\n",
    "    \n",
    "    file = i\n",
    "    # read zipped csv\n",
    "    df = pd.read_csv(file, encoding='latin1')\n",
    "\n",
    "    # get column name for class opening activity\n",
    "    val = 0\n",
    "    for col in df.columns: \n",
    "        if val == 6: # get seventh column, class starting activity \n",
    "            activityCol = col\n",
    "        val = val +1    \n",
    "\n",
    "    # convert import into \n",
    "    base = df[ ['Name','Date',activityCol] ]\n",
    "    baseNames = base.rename(columns={activityCol: \"OEQ\"})\n",
    "    baseNames.drop_duplicates()\n",
    "\n",
    "    # if there's a value then 1, else 0\n",
    "    baseNames['Participation'] = 0 # student entered nothing\n",
    "    baseNames.loc[baseNames['OEQ'].notnull(), 'Participation'] = 1 # student entered something\n",
    "    baseNames.loc[baseNames['OEQ'] == '-', 'Participation'] = 0 # student \"entered\" nothing, default is '-'\n",
    "    classRecords = baseNames.drop(columns=['OEQ'])\n",
    "\n",
    "    \n",
    "    # append class records with aggregate df\n",
    "    aggregateData = aggregateData.append(classRecords, ignore_index=True)    \n",
    "    \n",
    "# create rowId\n",
    "aggregateData = aggregateData.drop(columns=['OEQ'])\n",
    "aggregateData = aggregateData.reset_index()\n",
    "aggregateData = aggregateData.rename(columns={'index': 'rowId'})\n",
    "\n",
    "# write file\n",
    "aggregateData.to_excel(writeLoc, index=False)\n",
    "\n",
    "# finish, print success \n",
    "print('')\n",
    "print('Complete, written to ',writeLoc)\n",
    "input()"
   ]
  },
  {
   "cell_type": "code",
   "execution_count": null,
   "metadata": {},
   "outputs": [],
   "source": []
  },
  {
   "cell_type": "code",
   "execution_count": null,
   "metadata": {},
   "outputs": [],
   "source": []
  }
 ],
 "metadata": {
  "kernelspec": {
   "display_name": "Python 3",
   "language": "python",
   "name": "python3"
  },
  "language_info": {
   "codemirror_mode": {
    "name": "ipython",
    "version": 3
   },
   "file_extension": ".py",
   "mimetype": "text/x-python",
   "name": "python",
   "nbconvert_exporter": "python",
   "pygments_lexer": "ipython3",
   "version": "3.9.1"
  }
 },
 "nbformat": 4,
 "nbformat_minor": 4
}
