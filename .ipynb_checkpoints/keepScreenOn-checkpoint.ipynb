{
 "cells": [
  {
   "cell_type": "code",
   "execution_count": 5,
   "id": "later-utility",
   "metadata": {},
   "outputs": [],
   "source": [
    "import pyautogui\n",
    "import time"
   ]
  },
  {
   "cell_type": "code",
   "execution_count": null,
   "id": "sought-danger",
   "metadata": {},
   "outputs": [],
   "source": [
    "hours=input('Hours to stay on: ')\n",
    "hours=60*int(hours)\n",
    "\n",
    "for i in range(0,hours):\n",
    "    pyautogui.press('ctrl')\n",
    "    time.sleep(1)"
   ]
  }
 ],
 "metadata": {
  "kernelspec": {
   "display_name": "Python 3",
   "language": "python",
   "name": "python3"
  },
  "language_info": {
   "codemirror_mode": {
    "name": "ipython",
    "version": 3
   },
   "file_extension": ".py",
   "mimetype": "text/x-python",
   "name": "python",
   "nbconvert_exporter": "python",
   "pygments_lexer": "ipython3",
   "version": "3.9.1"
  }
 },
 "nbformat": 4,
 "nbformat_minor": 5
}
