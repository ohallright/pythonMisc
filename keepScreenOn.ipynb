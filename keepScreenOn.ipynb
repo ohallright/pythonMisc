{
 "cells": [
  {
   "cell_type": "code",
   "execution_count": 5,
   "id": "refined-timing",
   "metadata": {},
   "outputs": [],
   "source": [
    "import pyautogui\n",
    "import time"
   ]
  },
  {
   "cell_type": "code",
   "execution_count": 14,
   "id": "atmospheric-belfast",
   "metadata": {},
   "outputs": [
    {
     "name": "stdin",
     "output_type": "stream",
     "text": [
      "Hours to stay on:  2\n"
     ]
    }
   ],
   "source": [
    "hours=input('Hours to stay on: ')\n",
    "hours=60*int(hours)\n",
    "\n",
    "for i in range(0,hours):\n",
    "    pyautogui.press('ctrl')\n",
    "    time.sleep(60)"
   ]
  }
 ],
 "metadata": {
  "kernelspec": {
   "display_name": "Python 3",
   "language": "python",
   "name": "python3"
  },
  "language_info": {
   "codemirror_mode": {
    "name": "ipython",
    "version": 3
   },
   "file_extension": ".py",
   "mimetype": "text/x-python",
   "name": "python",
   "nbconvert_exporter": "python",
   "pygments_lexer": "ipython3",
   "version": "3.9.1"
  }
 },
 "nbformat": 4,
 "nbformat_minor": 5
}
